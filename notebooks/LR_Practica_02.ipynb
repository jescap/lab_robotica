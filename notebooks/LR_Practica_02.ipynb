{
 "cells": [
  {
   "cell_type": "markdown",
   "metadata": {},
   "source": [
    "# Practical Session 2: Introduction to Python\n",
    "\n",
    "## Laboratorio de Robótica \n",
    "### Grado en Ingeniería Electrónica, Mecatrónica y Robótica\n",
    "### Universidad de Sevilla"
   ]
  },
  {
   "cell_type": "markdown",
   "metadata": {},
   "source": [
    "## Objectives\n",
    "\n",
    "In this notebook, we will go over the basic concepts to code in Python, which is the language we will use to develop our algorithms throughout this course. Python is an interpreted language that is widely spread in science programming. Its main advantages are that: it is easy to learn and adequate for fast application development, due to its high-level data structures and dynamic typing; it is object-oriented and multi-platform; and it comes with a wide range of available libraries for multiple purposes. In particular, we'll learn the following in this practical session:\n",
    "\n",
    "+ The main Python operators and data types. \n",
    "+ How to work with strings, tuples, lists, and dictionaries. \n",
    "+ Basic input/output screen interface.\n",
    "+ The main control flow structures.\n",
    "+ How to define your own functions and classes.\n",
    "+ How to import Python libraries.\n",
    "+ A brief introduction to NumPy, SciPy and Matplotlib. "
   ]
  },
  {
   "cell_type": "markdown",
   "metadata": {},
   "source": [
    "## 1. Numeric types\n",
    "In Python, there are different numeric types. The language has dynamic typing, so the type of a data does not need to be specified, it will be derived from the expression in which it is used. Thus, if you type `5`, the number will be considered an integer (`int`), unless it is used in an expression where it has to be real (`float`); and typing `5.5` will produce a real number.\n",
    "  \n",
    "The interpreter acts as a simple calculator: you can type an expression at it and it will write the value. Expression syntax is straightforward: the operators `+`, `-`, `*` and `/` can be used to perform arithmetic; parentheses `(())` can be used for grouping."
   ]
  },
  {
   "cell_type": "code",
   "execution_count": null,
   "metadata": {},
   "outputs": [],
   "source": [
    "2 + 2"
   ]
  },
  {
   "cell_type": "markdown",
   "metadata": {},
   "source": [
    "Division `/` always returns a float. To do floor division and get an integer result you can use the `//` operator; to calculate the remainder of a division you can use `%`. Try the different options below:"
   ]
  },
  {
   "cell_type": "code",
   "execution_count": null,
   "metadata": {},
   "outputs": [],
   "source": [
    "(50 - 5 * 3) / 4"
   ]
  },
  {
   "cell_type": "markdown",
   "metadata": {},
   "source": [
    "With Python, it is possible to use the `**` operator to calculate powers:"
   ]
  },
  {
   "cell_type": "code",
   "execution_count": null,
   "metadata": {},
   "outputs": [],
   "source": [
    "(2 + 3)**4"
   ]
  },
  {
   "cell_type": "markdown",
   "metadata": {},
   "source": [
    "Python also has built-in support for complex numbers, and it uses the `j` suffix to indicate the imaginary part."
   ]
  },
  {
   "cell_type": "code",
   "execution_count": null,
   "metadata": {},
   "outputs": [],
   "source": [
    "(1+2j) / (1+1j)"
   ]
  },
  {
   "cell_type": "markdown",
   "metadata": {},
   "source": [
    "In Python, numbers are **inmutable**, which means that their value cannot be changed, that is, the value of a number is always the same, as you would expect. Later, we will see more types of immutable data. \n",
    "\n",
    "There is a wide variety of functions for numbers, either [built-in functions](https://docs.python.org/3/library/functions.html) or defined in specific libraries."
   ]
  },
  {
   "cell_type": "markdown",
   "metadata": {},
   "source": [
    "## 2. Variables "
   ]
  },
  {
   "cell_type": "markdown",
   "metadata": {},
   "source": [
    "Variables are used to store data: they are a __reference__ to a memory position where the data is stored. Python has no command for declaring a variable. A variable is created the moment you first assign a value to it, and assignments are done with the `=` operator. "
   ]
  },
  {
   "cell_type": "code",
   "execution_count": null,
   "metadata": {
    "tags": []
   },
   "outputs": [],
   "source": [
    "width = 20\n",
    "height = 5 * 9\n",
    "area = width * height\n",
    "print(width, height, area)\n",
    "\n",
    "# Multi-variable assignment in a single line <-- Python comment\n",
    "x, y = 2, 3\n",
    "print(x,y)"
   ]
  },
  {
   "cell_type": "markdown",
   "metadata": {},
   "source": [
    "You can also use the assignment combined with another arithmetic operator:"
   ]
  },
  {
   "cell_type": "code",
   "execution_count": null,
   "metadata": {
    "tags": []
   },
   "outputs": [],
   "source": [
    "area *=2\n",
    "# Same as area = area * 2\n",
    "\n",
    "x = 3.5\n",
    "x -= 2\n",
    "# Same as x = x - 2\n",
    "\n",
    "print(area)\n",
    "print(x)"
   ]
  },
  {
   "cell_type": "markdown",
   "metadata": {},
   "source": [
    "## 3. Boolean\n",
    "There are boolean data in Python, which can take `True` or `False` values. You can compare numbers with the `==` operator (do not confuse it with the assignment operator `=`), or check whether they are different with `!=`: "
   ]
  },
  {
   "cell_type": "code",
   "execution_count": null,
   "metadata": {},
   "outputs": [],
   "source": [
    "2 == 2"
   ]
  },
  {
   "cell_type": "code",
   "execution_count": null,
   "metadata": {},
   "outputs": [],
   "source": [
    "x = 8\n",
    "y = 7\n",
    "x == y"
   ]
  },
  {
   "cell_type": "code",
   "execution_count": null,
   "metadata": {},
   "outputs": [],
   "source": [
    "x != y"
   ]
  },
  {
   "cell_type": "markdown",
   "metadata": {},
   "source": [
    "You can also use the standard logic operators:"
   ]
  },
  {
   "cell_type": "code",
   "execution_count": null,
   "metadata": {},
   "outputs": [],
   "source": [
    "2 != 4 and 2 == 3"
   ]
  },
  {
   "cell_type": "code",
   "execution_count": null,
   "metadata": {},
   "outputs": [],
   "source": [
    "2 != 3 or 2 == 2"
   ]
  },
  {
   "cell_type": "code",
   "execution_count": null,
   "metadata": {},
   "outputs": [],
   "source": [
    "not 3 != 8"
   ]
  },
  {
   "cell_type": "markdown",
   "metadata": {},
   "source": [
    "## 4. Strings\n",
    "Python is quite helpful to manipulate text (represented by data type `str`, so-called _strings_). This includes characters `“!”`, words `“rabbit”`, sentences `“Got your back.”`, etc. They can be enclosed in single quotes `'...'` or double quotes `\"...\"` with the same result. Strings are an immutable data type, so their content cannot be directly modified. "
   ]
  },
  {
   "cell_type": "code",
   "execution_count": null,
   "metadata": {
    "tags": []
   },
   "outputs": [],
   "source": [
    "c1 = 'This is a string'\n",
    "c2 = \"Hello\"\n",
    "c3 = \" and good bye\""
   ]
  },
  {
   "cell_type": "markdown",
   "metadata": {},
   "source": [
    "Python has some operators that can be used with strings, for example, the `+` operator for concatenation and the `*` operator for repetition. These operators can also be combined with the assignment operator. Play a bit with these options:"
   ]
  },
  {
   "cell_type": "code",
   "execution_count": null,
   "metadata": {
    "tags": []
   },
   "outputs": [],
   "source": [
    "sentence = c2 + c3\n",
    "print(sentence)\n",
    "\n",
    "sentence += \"-\"\n",
    "print(sentence)\n",
    "\n",
    "print(sentence * 2)"
   ]
  },
  {
   "cell_type": "markdown",
   "metadata": {},
   "source": [
    "As we've just seen, some Python operators use the same symbol with different data types (e.g., `+` to add numbers or concatenate strings). The right operation is dynamically determined by Python depending on the operators' type. \n",
    "\n",
    "You can access specific characters of a string using their position index. In Python, indexes start at 0 and can also be negative (in that case, they count backwards from the last position)."
   ]
  },
  {
   "cell_type": "code",
   "execution_count": null,
   "metadata": {},
   "outputs": [],
   "source": [
    "sentence[7]"
   ]
  },
  {
   "cell_type": "code",
   "execution_count": null,
   "metadata": {},
   "outputs": [],
   "source": [
    "sentence[-1]"
   ]
  },
  {
   "cell_type": "code",
   "execution_count": null,
   "metadata": {},
   "outputs": [],
   "source": [
    "sentence[3] + sentence[-4]"
   ]
  },
  {
   "cell_type": "markdown",
   "metadata": {},
   "source": [
    "The _slicing_ operator extracts a substring, and it can also be applied to other numeric sequences like lists:"
   ]
  },
  {
   "cell_type": "code",
   "execution_count": null,
   "metadata": {},
   "outputs": [],
   "source": [
    "sentence[2:6]"
   ]
  },
  {
   "cell_type": "code",
   "execution_count": null,
   "metadata": {},
   "outputs": [],
   "source": [
    "sentence[4:11]"
   ]
  },
  {
   "cell_type": "markdown",
   "metadata": {},
   "source": [
    "In the _slicing_ operation you can include a third argument `[start:end:step]` indicating the step when traversing the sequence. This step can be negative, indicating that the operation should go backwards starting from the end."
   ]
  },
  {
   "cell_type": "code",
   "execution_count": null,
   "metadata": {},
   "outputs": [],
   "source": [
    "sentence[2:7:2]"
   ]
  },
  {
   "cell_type": "code",
   "execution_count": null,
   "metadata": {},
   "outputs": [],
   "source": [
    "sentence[8:3:-1]"
   ]
  },
  {
   "cell_type": "markdown",
   "metadata": {},
   "source": [
    "The three parameters of the _slicing_ operation have default values: the defalut `start` is `0`, the default `end` is the last sequence position, and the default `step` is `1`."
   ]
  },
  {
   "cell_type": "code",
   "execution_count": null,
   "metadata": {},
   "outputs": [],
   "source": [
    "sentence[2:]"
   ]
  },
  {
   "cell_type": "code",
   "execution_count": null,
   "metadata": {},
   "outputs": [],
   "source": [
    "sentence[:7]"
   ]
  },
  {
   "cell_type": "markdown",
   "metadata": {},
   "source": [
    "If `step` is negative, the default values for `start` and `end` are exchanged; i.e., if no `start` is provided, this would be the last position, if no `end` is provided, this would be the first position. "
   ]
  },
  {
   "cell_type": "code",
   "execution_count": null,
   "metadata": {},
   "outputs": [],
   "source": [
    "sentence[:2:-1]"
   ]
  },
  {
   "cell_type": "code",
   "execution_count": null,
   "metadata": {},
   "outputs": [],
   "source": [
    "sentence[7::-1]"
   ]
  },
  {
   "cell_type": "code",
   "execution_count": null,
   "metadata": {},
   "outputs": [],
   "source": [
    "sentence[::-1]"
   ]
  },
  {
   "cell_type": "markdown",
   "metadata": {},
   "source": [
    "## 5. Classes and objects"
   ]
  },
  {
   "cell_type": "markdown",
   "metadata": {},
   "source": [
    "In Python, all data types (including built-in types) are __classes__ and data of that type are __objects__ (instances of that class). If you do not have experience with object-oriented programming, for now it is enough to keep in mind that a class _defines in a general way_ what the elements (_objects_) of a data type would be like. And that definition consists of giving a series of _attributes_ or data that make up the object, along with the functions (_methods_) that manipulate those data.\n",
    "\n",
    "For example, the _string_ data type is a built-in class, and any specific character string would be an object of that class. Therefore, the methods included in the _string_ class can be applied to any object of that class. In general, if you have an object `obj` of a class, and the `fun` method is defined in that class, then `obj.fun(...)` is the way to apply the `fun` method to the object, possibly with additional parameters `(...)`.\n",
    "\n",
    "See an example to use the `index` method defined in the `string` class:"
   ]
  },
  {
   "cell_type": "code",
   "execution_count": null,
   "metadata": {
    "tags": []
   },
   "outputs": [],
   "source": [
    "cad = \"In a lovely place\"\n",
    "cad.index(\"lovely\")"
   ]
  },
  {
   "cell_type": "markdown",
   "metadata": {},
   "source": [
    "The example applies the `index` method to the object of the class `string` that is refered to by variable `cad`. The method receives as argument another string `\"lovely\"` and returns the start position of that given string in the original string (if the argument is not contained in the original string, an error is returned). \n",
    "\n",
    "In the following, see other examples of methods defined in the `string` class. In the Python documentation, you can find an exhaustive list of all methods defined for each built-in class.  "
   ]
  },
  {
   "cell_type": "code",
   "execution_count": null,
   "metadata": {
    "tags": []
   },
   "outputs": [],
   "source": [
    "cad.find(\"place\")"
   ]
  },
  {
   "cell_type": "code",
   "execution_count": null,
   "metadata": {
    "tags": []
   },
   "outputs": [],
   "source": [
    "cad.find(\"today\")"
   ]
  },
  {
   "cell_type": "code",
   "execution_count": null,
   "metadata": {
    "tags": []
   },
   "outputs": [],
   "source": [
    "cad.upper()"
   ]
  },
  {
   "cell_type": "code",
   "execution_count": null,
   "metadata": {
    "tags": []
   },
   "outputs": [],
   "source": [
    "cad.count(\"a\")"
   ]
  },
  {
   "cell_type": "code",
   "execution_count": null,
   "metadata": {
    "tags": []
   },
   "outputs": [],
   "source": [
    "\"Red white black\".split(\" \")"
   ]
  },
  {
   "cell_type": "code",
   "execution_count": null,
   "metadata": {
    "tags": []
   },
   "outputs": [],
   "source": [
    "\"Red and white and black\".split(\" \")"
   ]
  },
  {
   "cell_type": "code",
   "execution_count": null,
   "metadata": {
    "tags": []
   },
   "outputs": [],
   "source": [
    "\"Red and white and black\".split(\" and \")"
   ]
  },
  {
   "cell_type": "markdown",
   "metadata": {},
   "source": [
    "Note: The method `split` returns a _list_ (a data sequence specified by elements between brackets and separated by commas. We'll talk about lists later. "
   ]
  },
  {
   "cell_type": "markdown",
   "metadata": {},
   "source": [
    "## 6. Standard data output/input\n",
    "\n",
    "You can use the function `print` to output strings to the screen. Note that numeric data have to be converted to string before printing; use function `str()` for that. Another more modern and flexible option is using f-string formatting including an \"f\" before the string. Thus, you can specify things like alignment, number of decimal places, etc."
   ]
  },
  {
   "cell_type": "code",
   "execution_count": null,
   "metadata": {
    "tags": []
   },
   "outputs": [],
   "source": [
    "d = \"is\"\n",
    "e = \"is not\"\n",
    "print(\"This intelligence\", d, \"artificial\")\n",
    "print(\"This intelligence\", e, \"artificial\")\n",
    "\n",
    "cad = \"John's age is \"\n",
    "age = 42\n",
    "print(cad + str(age))\n",
    "\n",
    "\n",
    "pi = 3.14159\n",
    "radius = 2.345\n",
    "fig_name = \"circle\"\n",
    "print(f\"The area of a {fig_name} with radius {radius:.1f} is {pi*(radius**2):.2f}.\")"
   ]
  },
  {
   "cell_type": "markdown",
   "metadata": {},
   "source": [
    "You can print a message in screen and wait for the user's input with function `input`. The input message is captured and returned as a string."
   ]
  },
  {
   "cell_type": "code",
   "execution_count": null,
   "metadata": {
    "tags": []
   },
   "outputs": [],
   "source": [
    "input('Write your name: ')"
   ]
  },
  {
   "cell_type": "markdown",
   "metadata": {},
   "source": [
    "## 7. Tuples\n",
    "Tuples are data sequences with elements separated by commas. They are usually between parentheses, although not necessaritly (except for the empty tuple). Examples:"
   ]
  },
  {
   "cell_type": "code",
   "execution_count": null,
   "metadata": {
    "tags": []
   },
   "outputs": [],
   "source": [
    "1, 2, 3, 4"
   ]
  },
  {
   "cell_type": "code",
   "execution_count": null,
   "metadata": {
    "tags": []
   },
   "outputs": [],
   "source": [
    "()"
   ]
  },
  {
   "cell_type": "code",
   "execution_count": null,
   "metadata": {
    "tags": []
   },
   "outputs": [],
   "source": [
    "a = 2\n",
    "b = 3\n",
    "(a, b, a + b, a - b, a * b, a / b)"
   ]
  },
  {
   "cell_type": "markdown",
   "metadata": {},
   "source": [
    "As they are __sequences__, some of the operators that we have seen in the string section can also be applied to tuples. In particular, indexing, slicing and concatenation: "
   ]
  },
  {
   "cell_type": "code",
   "execution_count": null,
   "metadata": {
    "tags": []
   },
   "outputs": [],
   "source": [
    "a = (\"One\", \"Two\", \"Three\", \"Four\")"
   ]
  },
  {
   "cell_type": "code",
   "execution_count": null,
   "metadata": {
    "tags": []
   },
   "outputs": [],
   "source": [
    "a[2]"
   ]
  },
  {
   "cell_type": "code",
   "execution_count": null,
   "metadata": {
    "tags": []
   },
   "outputs": [],
   "source": [
    "a[1:3]"
   ]
  },
  {
   "cell_type": "code",
   "execution_count": null,
   "metadata": {
    "tags": []
   },
   "outputs": [],
   "source": [
    "a[::]"
   ]
  },
  {
   "cell_type": "code",
   "execution_count": null,
   "metadata": {
    "tags": []
   },
   "outputs": [],
   "source": [
    "a[::-1]"
   ]
  },
  {
   "cell_type": "code",
   "execution_count": null,
   "metadata": {
    "tags": []
   },
   "outputs": [],
   "source": [
    "a + a[2::-1]"
   ]
  },
  {
   "cell_type": "markdown",
   "metadata": {},
   "source": [
    "Tuples are __immutable__, i.e., once created, they cannot be modified. "
   ]
  },
  {
   "cell_type": "code",
   "execution_count": null,
   "metadata": {
    "tags": []
   },
   "outputs": [],
   "source": [
    "a = (\"Madrid\", \"Paris\", \"Rome\", \"Berlin\", \"London\")\n",
    "a[3] = \"Athens\""
   ]
  },
  {
   "cell_type": "markdown",
   "metadata": {},
   "source": [
    "__Important__: the following sequences of commands will help you better understand how tuples are immutable and how Python variables are references to objects in memory.  \n",
    "\n",
    "First, when you write `b = a`, you are creating a variable `b` that points to the same memory position as variable `a`: "
   ]
  },
  {
   "cell_type": "code",
   "execution_count": null,
   "metadata": {
    "tags": []
   },
   "outputs": [],
   "source": [
    "b = a\n",
    "b"
   ]
  },
  {
   "cell_type": "markdown",
   "metadata": {},
   "source": [
    "Now , we can concatenate one element to tuple `a`:"
   ]
  },
  {
   "cell_type": "code",
   "execution_count": null,
   "metadata": {
    "tags": []
   },
   "outputs": [],
   "source": [
    "a += (\"Athens\",)\n",
    "a"
   ]
  },
  {
   "cell_type": "markdown",
   "metadata": {},
   "source": [
    "We could think that the tuple referred to by `a` has been modified, but what has really happened is that a new tuple has been created (in another memory location), copying the content of the original and adding a new element at the end. And the reference of the variable `a` has been _redirected_ to that new tuple. The original tuple is still intact and accessible through the variable `b`:"
   ]
  },
  {
   "cell_type": "code",
   "execution_count": null,
   "metadata": {
    "tags": []
   },
   "outputs": [],
   "source": [
    "b"
   ]
  },
  {
   "cell_type": "markdown",
   "metadata": {},
   "source": [
    "## 8. Lists\n",
    "Lists are also data __sequences__, as tuples, but they are __mutable__, i.e., their content can be changed. A list is represented as a sequence of elements between brackets and separated by commas. They can have elements of different types, including other lists."
   ]
  },
  {
   "cell_type": "code",
   "execution_count": null,
   "metadata": {
    "tags": []
   },
   "outputs": [],
   "source": [
    "[\"a\", \"b\", 34, \"c\", \"d\", 76]"
   ]
  },
  {
   "cell_type": "code",
   "execution_count": null,
   "metadata": {
    "tags": []
   },
   "outputs": [],
   "source": [
    "[\"hello\", 34, (3,), [2,\"g\"]] # another list or even a tuple can be members of a list"
   ]
  },
  {
   "cell_type": "code",
   "execution_count": null,
   "metadata": {
    "tags": []
   },
   "outputs": [],
   "source": [
    "l = [2] # unitary list\n",
    "h = []  # empty list\n",
    "print(l, h)"
   ]
  },
  {
   "cell_type": "markdown",
   "metadata": {},
   "source": [
    "As lists are sequences, some of the operators used for strings and tuples are also applicable: "
   ]
  },
  {
   "cell_type": "code",
   "execution_count": null,
   "metadata": {
    "tags": []
   },
   "outputs": [],
   "source": [
    "sandwich = [\"bread\", \"ham\", \"bread\"]"
   ]
  },
  {
   "cell_type": "code",
   "execution_count": null,
   "metadata": {
    "tags": []
   },
   "outputs": [],
   "source": [
    "2 * sandwich[:2] + [\"egg\"] + [sandwich[-1]]"
   ]
  },
  {
   "cell_type": "code",
   "execution_count": null,
   "metadata": {
    "tags": []
   },
   "outputs": [],
   "source": [
    "triple = 2 * sandwich + [\"tomato\", \"bread\"]\n",
    "triple"
   ]
  },
  {
   "cell_type": "code",
   "execution_count": null,
   "metadata": {
    "tags": []
   },
   "outputs": [],
   "source": [
    "len(triple)"
   ]
  },
  {
   "cell_type": "markdown",
   "metadata": {},
   "source": [
    "Lists are  __mutable__, so their content can be modified. See the following example:"
   ]
  },
  {
   "cell_type": "code",
   "execution_count": null,
   "metadata": {
    "tags": []
   },
   "outputs": [],
   "source": [
    "l = [3, 5, 7, 9, 11, 13]\n",
    "l[4] = 25\n",
    "print(l)"
   ]
  },
  {
   "cell_type": "markdown",
   "metadata": {},
   "source": [
    "__Note__: in order to avoid unexpected behavior, take into account that Python variables are references. For instance, if you want to obtain a modified copy of a given list, the following instructions are a __very common mistake__:"
   ]
  },
  {
   "cell_type": "code",
   "execution_count": null,
   "metadata": {
    "tags": []
   },
   "outputs": [],
   "source": [
    "l = [78, 21, 34, 56]\n",
    "m = l \n",
    "m[2] = 11 \n",
    "\n",
    "print(m)\n",
    "print(l)"
   ]
  },
  {
   "cell_type": "markdown",
   "metadata": {},
   "source": [
    "You can see that `m` has been modified, as expected, but so has `l`, which may have not been the intention. What happened is that the assignment `m = l` just copied the reference of `l` to `m`, so they both point to the same object in memory. When you modify the object through its reference variable `m`, those changes are also reflected when you access the same object through its reference `l`. __The correct approach is to make an actual copy of the list, rather than just copying the reference.__"
   ]
  },
  {
   "cell_type": "code",
   "execution_count": null,
   "metadata": {
    "tags": []
   },
   "outputs": [],
   "source": [
    "l = [78, 21, 34, 56]\n",
    "m = l[:] # assign to m a COPY of l, e.g., using slicing \n",
    "m[2] = 11 \n",
    "print(m)\n",
    "print(l)"
   ]
  },
  {
   "cell_type": "markdown",
   "metadata": {},
   "source": [
    "Let's check now some methods of the `list` class. The `append` and `extend` methods, add an element to the end of the list or concatenate another list to the end, respectively. They are __destructive__ methods, which means that they modify the list to which they are applied. "
   ]
  },
  {
   "cell_type": "code",
   "execution_count": null,
   "metadata": {
    "tags": []
   },
   "outputs": [],
   "source": [
    "r = [\"a\", 1, \"b\", 2, \"c\", \"3\"]\n",
    "r.append(\"d\")\n",
    "print(r)\n",
    "\n",
    "r.extend([4, \"e\"])\n",
    "print(r)"
   ]
  },
  {
   "cell_type": "markdown",
   "metadata": {},
   "source": [
    "The `pop` method, also destructive, removes an element of the list (you can specify its position, being the last one by default) and returns it: "
   ]
  },
  {
   "cell_type": "code",
   "execution_count": null,
   "metadata": {
    "tags": []
   },
   "outputs": [],
   "source": [
    "r.pop()\n",
    "print(r)\n",
    "\n",
    "r.pop(0)\n",
    "print(r)"
   ]
  },
  {
   "cell_type": "markdown",
   "metadata": {},
   "source": [
    "The `insert` method inserts an element into a list, in the given position:"
   ]
  },
  {
   "cell_type": "code",
   "execution_count": null,
   "metadata": {
    "tags": []
   },
   "outputs": [],
   "source": [
    "r.insert(3, \"x\")\n",
    "print(r)"
   ]
  },
  {
   "cell_type": "markdown",
   "metadata": {},
   "source": [
    "## 9. Dictionaries\n",
    "A dictionary is a data structure that allows you to assign values to a series of elements (keys). It is represented as a set of pairs _key:value_, separated by commas and written between braces. In the following example, we create a dictionary where the key `\"John\"` has the value `4098` assigned, and the key `\"Ana\"` has the value `4139`:"
   ]
  },
  {
   "cell_type": "code",
   "execution_count": null,
   "metadata": {
    "tags": []
   },
   "outputs": [],
   "source": [
    " dict_tel = {\"John\": 4098, \"Ana\": 4139}"
   ]
  },
  {
   "cell_type": "markdown",
   "metadata": {},
   "source": [
    "Let's check some common operations with dictionaries. First, you can check the value of a key. Try also to see what happens when the key is not in the dictionary. "
   ]
  },
  {
   "cell_type": "code",
   "execution_count": null,
   "metadata": {
    "tags": []
   },
   "outputs": [],
   "source": [
    "dict_tel[\"Ana\"]"
   ]
  },
  {
   "cell_type": "markdown",
   "metadata": {},
   "source": [
    "You can add a new key with its value (dictionaries are __mutable__ and can be modified):"
   ]
  },
  {
   "cell_type": "code",
   "execution_count": null,
   "metadata": {
    "tags": []
   },
   "outputs": [],
   "source": [
    "dict_tel[\"Peter\"] = 2321\n",
    "print(dict_tel)"
   ]
  },
  {
   "cell_type": "markdown",
   "metadata": {},
   "source": [
    "Or you can change the value of an existing key:"
   ]
  },
  {
   "cell_type": "code",
   "execution_count": null,
   "metadata": {
    "tags": []
   },
   "outputs": [],
   "source": [
    "dict_tel[\"John\"] = 7989\n",
    "print(dict_tel)"
   ]
  },
  {
   "cell_type": "markdown",
   "metadata": {},
   "source": [
    "Last, you can remove an existing key:"
   ]
  },
  {
   "cell_type": "code",
   "execution_count": null,
   "metadata": {
    "tags": []
   },
   "outputs": [],
   "source": [
    "del dict_tel[\"Ana\"]\n",
    "print(dict_tel)"
   ]
  },
  {
   "cell_type": "markdown",
   "metadata": {},
   "source": [
    "## 10. Control flow structures\n",
    "Control flow structures dictate the order in which statements and instructions in a program are executed. In Python, the main control structures are the following:\n",
    "* Condicional (`if`)\n",
    "* Loop (`while`)\n",
    "* Loop (`for`)"
   ]
  },
  {
   "cell_type": "markdown",
   "metadata": {},
   "source": [
    "### `if` conditional\n",
    "The following is an example of a conditional statement with `if`. The first condition begins with `if`, the following (optional) with `elif`, and the last (also optional) with `else`. Don't forget the colon at the end of each condition. Note that Python relies on indentation (whitespace at the beginning of a line) to define scope in the code. Other programming languages like C often use braces for this purpose."
   ]
  },
  {
   "cell_type": "code",
   "execution_count": null,
   "metadata": {
    "tags": []
   },
   "outputs": [],
   "source": [
    "x = int(input(\"Write an integer: \"))\n",
    "\n",
    "if x < 0:\n",
    "    print(\"Negative:\", x)\n",
    "elif x == 0:\n",
    "    print(\"Zero\")\n",
    "else:\n",
    "    print(str(x) + \" is positive.\")"
   ]
  },
  {
   "cell_type": "markdown",
   "metadata": {},
   "source": [
    "### `while` loop\n",
    "In a `while` loop, a set of instructions is repeated while the condition is met:"
   ]
  },
  {
   "cell_type": "code",
   "execution_count": null,
   "metadata": {
    "tags": []
   },
   "outputs": [],
   "source": [
    "# Search for the position ind of an element in a list. If not found, return -1\n",
    "\n",
    "ind = 0\n",
    "element = \"pear\"\n",
    "lst = [\"apple\", \"orange\", \"pear\", \"banana\"]\n",
    "\n",
    "while ind < len(lst) and lst[ind] != element:\n",
    "    ind += 1\n",
    "\n",
    "if ind == len(lst):\n",
    "    ind=-1\n",
    "\n",
    "print(ind)"
   ]
  },
  {
   "cell_type": "markdown",
   "metadata": {},
   "source": [
    "### `for` loop\n",
    "The `for` loop is a control structure to iterate over a set of instructions. The structure is quite versatile and these repetitions can be indicated in many different ways. In its most basic option, `for var in seq`, the loop iterates over the elements in `seq` (which is a sequence of any type, e.g., a list, a tuple or a string) and executes a block of code for each element. `var` takes the value of the corresponding sequence's element at each iteration. "
   ]
  },
  {
   "cell_type": "code",
   "execution_count": null,
   "metadata": {
    "tags": []
   },
   "outputs": [],
   "source": [
    "# Compute an average\n",
    "l, sum, n = [1, 5, 8, 12, 3, 7], 0, 0\n",
    "\n",
    "for e in l:\n",
    "    sum += e\n",
    "    n += 1\n",
    "\n",
    "print(sum / n)"
   ]
  },
  {
   "cell_type": "markdown",
   "metadata": {},
   "source": [
    "The `range` function can also be used to iterate in for loops.`range(start, end, step)` returns a sequence of numbers, with its parameters used similarly to those in slicing operations. For instance, `range(3)` would iterate over `0,1,2`. See the following loop example:"
   ]
  },
  {
   "cell_type": "code",
   "execution_count": null,
   "metadata": {
    "tags": []
   },
   "outputs": [],
   "source": [
    "# Compute prime numbers between 3 and 20, pair numbers are skipped\n",
    "\n",
    "primes = []\n",
    "for n in range(3, 20, 2):\n",
    "\n",
    "    is_prime = True\n",
    "    \n",
    "    for x in range(2, n):\n",
    "        if n % x == 0:\n",
    "            print(n, \"is\", x, \"*\", n // x)\n",
    "            is_prime = False\n",
    "\n",
    "    if is_prime:\n",
    "        primes.append(n)\n",
    "        \n",
    "print(primes)"
   ]
  },
  {
   "cell_type": "markdown",
   "metadata": {},
   "source": [
    "__Other iteration patterns__\n",
    "+ `for k in dict:` iterates the variable `k` over the keys of the dictionary `dict`.\n",
    "+ `for (k, v) in dict.items():` iterates the pair `(k, v)` over the `(key, value)` pairs of the dictionary `dict`.\n",
    "+ `for (i, x) in enumerate(l):` iterates the pair `(i, x)`, where `x` takes the corresponding elements of the list `l`, and `i` represents the corresponding position of `x` in `l`.\n",
    "+ `for (u, v) in zip(l, m):` iterates the pair `(u, v)` over the corresponding elements of `l` and `m` that share the same position. \n",
    "+ `for x in reversed(l):` iterates `x` over the sequence `l` in reverse order."
   ]
  },
  {
   "cell_type": "markdown",
   "metadata": {},
   "source": [
    "__Iterators:__ The previous functions (`items`, `enumerate`, `zip`, `reversed`,...) generate what is known in Python as an _iterator_. Iterators are data types that make sense to go through in _sequence_ and in which there is some notion of _next_. For example, lists are iterators. There are also iterators that do not explicitly generate the sequence beforehand, but rather as they are traversed, which can be more efficient. Let's look at some examples with the aforementioned loop iterators:"
   ]
  },
  {
   "cell_type": "code",
   "execution_count": null,
   "metadata": {
    "tags": []
   },
   "outputs": [],
   "source": [
    "size = {\"Hulk\": \"big\", \"Yoda\": \"small\"}\n",
    "\n",
    "for k in size: \n",
    "    print(k, size[k])"
   ]
  },
  {
   "cell_type": "code",
   "execution_count": null,
   "metadata": {
    "tags": []
   },
   "outputs": [],
   "source": [
    "for k, v in size.items(): \n",
    "    print(k, v)"
   ]
  },
  {
   "cell_type": "code",
   "execution_count": null,
   "metadata": {
    "tags": []
   },
   "outputs": [],
   "source": [
    "for i, col in enumerate([\"red\", \"blue\", \"yellow\"]):\n",
    "     print(i, col)"
   ]
  },
  {
   "cell_type": "code",
   "execution_count": null,
   "metadata": {
    "tags": []
   },
   "outputs": [],
   "source": [
    "questions = [\"name\", \"surname\", \"favourite color\"]\n",
    "answers = [\"John\", \"Wick\", \"red\"]\n",
    "\n",
    "for q, a in zip(questions, answers):\n",
    "    print(\"My \" + q + \" is \" + a )"
   ]
  },
  {
   "cell_type": "code",
   "execution_count": null,
   "metadata": {
    "tags": []
   },
   "outputs": [],
   "source": [
    "for i in reversed(range(1, 10, 2)): \n",
    "    print(i)"
   ]
  },
  {
   "cell_type": "markdown",
   "metadata": {},
   "source": [
    "## 11. Function definitions\n",
    "You can define a function in Python using `def` followed by the function's name and its parameters in parentheses:"
   ]
  },
  {
   "cell_type": "code",
   "execution_count": null,
   "metadata": {
    "tags": []
   },
   "outputs": [],
   "source": [
    "def sum_prod(k, l):\n",
    "    sum = 0\n",
    "    for x in l:\n",
    "        sum += k * x\n",
    "    return sum"
   ]
  },
  {
   "cell_type": "markdown",
   "metadata": {},
   "source": [
    "The above code defines a function called `sum_prod` with two arguments, `k` and `l`, that returns the sum of the products of `k` with each of the elements in the list `l`. Try calling the function with different parameters:"
   ]
  },
  {
   "cell_type": "code",
   "execution_count": null,
   "metadata": {
    "tags": []
   },
   "outputs": [],
   "source": [
    "sum_prod(3, [5, 1, 3, 7, 9])"
   ]
  },
  {
   "cell_type": "code",
   "execution_count": null,
   "metadata": {
    "tags": []
   },
   "outputs": [],
   "source": [
    "sum_prod(9, [12, 1, 45, 6, 8, 9, 11, 3, 3, 5])"
   ]
  },
  {
   "cell_type": "markdown",
   "metadata": {},
   "source": [
    "Functions are usually called with arguments ordered according to the function definition. However, functions can also be called using _keyword arguments_, where the arguments are specified by name and do not need to follow the predefined order:"
   ]
  },
  {
   "cell_type": "code",
   "execution_count": null,
   "metadata": {
    "tags": []
   },
   "outputs": [],
   "source": [
    "sum_prod(l = [5, 1, 3, 7, 9], k = 3)"
   ]
  },
  {
   "cell_type": "markdown",
   "metadata": {},
   "source": [
    "Default values for parameters can also be specified in the function definition. In that case, if a parameter value is not given in the function call, it will take its default value. "
   ]
  },
  {
   "cell_type": "code",
   "execution_count": null,
   "metadata": {
    "tags": []
   },
   "outputs": [],
   "source": [
    "def func(x, y, z=0): \n",
    "    return(x ** y + z)"
   ]
  },
  {
   "cell_type": "code",
   "execution_count": null,
   "metadata": {
    "tags": []
   },
   "outputs": [],
   "source": [
    "func(2, 3) # Third parameter takes value 0 (by default)"
   ]
  },
  {
   "cell_type": "code",
   "execution_count": null,
   "metadata": {
    "tags": []
   },
   "outputs": [],
   "source": [
    "func(2, 3, 4)"
   ]
  },
  {
   "cell_type": "markdown",
   "metadata": {},
   "source": [
    "## 12. Classes"
   ]
  },
  {
   "cell_type": "markdown",
   "metadata": {},
   "source": [
    "Of course, you can define your own classes in Python. A class is a way of structuring a set of data and defining a set of methods, which are functions that operate on the data. To define a class, you use the `class` statement followed by the class name and, optionally, a list of base classes from which it inherits. "
   ]
  },
  {
   "cell_type": "code",
   "execution_count": null,
   "metadata": {
    "tags": []
   },
   "outputs": [],
   "source": [
    "class Point():\n",
    "    def __init__(self, x=0, y=0):\n",
    "        self.x = x\n",
    "        self.y = y"
   ]
  },
  {
   "cell_type": "markdown",
   "metadata": {},
   "source": [
    "Among the methods that can be defined in a class is the constructor, which describes how an object of the class being defined is created. This method is defined with a syntax similar to that of functions, except that its name is special, `__init__`, and its first argument is a reference to the object being created, `self`. When we use the constructor of a class, we use the class name as if it were a function."
   ]
  },
  {
   "cell_type": "code",
   "execution_count": null,
   "metadata": {
    "tags": []
   },
   "outputs": [],
   "source": [
    "P = Point(2, 3) # Recall that P is a reference to an object of type Point stored in memory"
   ]
  },
  {
   "cell_type": "markdown",
   "metadata": {},
   "source": [
    "In general, any method associated with a class should receive a reference to the object being constructed as its first argument. This first argument is not made explicit when the method is used; instead, it takes its value from the object on which the method is called.\n",
    "\n",
    "There are other special methods that can be defined in all classes. For example, `__eq__`, which defines how to compare two objects of the class, or `__str__`, which provides a string representation of an object of the class.\n",
    "\n",
    "You can also define specific methods for a class. For example, for the `Point` class, we might define a method that returns the distance to the origin."
   ]
  },
  {
   "cell_type": "code",
   "execution_count": null,
   "metadata": {
    "tags": []
   },
   "outputs": [],
   "source": [
    "class Point():\n",
    "    def __init__(self, x=0, y=0):\n",
    "        self.x = x\n",
    "        self.y = y\n",
    "    \n",
    "    def distance_to_origin(self):\n",
    "        return (self.x ** 2 + self.y ** 2) ** (1 / 2)\n",
    "    \n",
    "    def __eq__(self, p):\n",
    "        return self.x == p.x and self.y == p.y\n",
    "    \n",
    "    def __str__(self):\n",
    "        return \"(\" + str(self.x) + \",\" + str(self.y) + \")\""
   ]
  },
  {
   "cell_type": "code",
   "execution_count": null,
   "metadata": {
    "tags": []
   },
   "outputs": [],
   "source": [
    "p = Point(2, 3)\n",
    "q = Point(2, 3)"
   ]
  },
  {
   "cell_type": "markdown",
   "metadata": {},
   "source": [
    "You can compare two objects of `Point` type thanks to the definition of the `__eq__` method:"
   ]
  },
  {
   "cell_type": "code",
   "execution_count": null,
   "metadata": {
    "tags": []
   },
   "outputs": [],
   "source": [
    "p == q"
   ]
  },
  {
   "cell_type": "markdown",
   "metadata": {},
   "source": [
    "The definition of the `__str__` method indicates how to print the object's content:"
   ]
  },
  {
   "cell_type": "code",
   "execution_count": null,
   "metadata": {
    "tags": []
   },
   "outputs": [],
   "source": [
    "print(p)"
   ]
  },
  {
   "cell_type": "code",
   "execution_count": null,
   "metadata": {
    "tags": []
   },
   "outputs": [],
   "source": [
    "p.distance_to_origin()"
   ]
  },
  {
   "cell_type": "markdown",
   "metadata": {},
   "source": [
    "## Python libraries\n",
    "\n",
    "There is a huge list of available Python libraries that you can use in your code after including them with the `import` statement. For instance, if you import the `math` module, you could use all math functions included: "
   ]
  },
  {
   "cell_type": "code",
   "execution_count": null,
   "metadata": {},
   "outputs": [],
   "source": [
    "import math\n",
    "\n",
    "a = math.sqrt(9)\n",
    "\n",
    "print(a)"
   ]
  },
  {
   "cell_type": "markdown",
   "metadata": {},
   "source": [
    "During this course, there are three Python libraries of special interest: __NumPy, SciPy, and Matplotlib__. They are fundamental libraries in the Python scientific computing ecosystem, and they are commonly used for numerical operations, scientific computing, and data visualization."
   ]
  },
  {
   "cell_type": "markdown",
   "metadata": {},
   "source": [
    "\n",
    "### Numpy\n",
    "\n",
    "[NumPy](https://docs.scipy.org/doc/numpy/reference/) is a library for numerical computing in Python. It provides support for arrays, matrices, and many mathematical functions to operate on these data structures.\n",
    "\n",
    "The `ndarray` class is the core data structure, an n-dimensional array for efficient storage and manipulation of numerical data. A normal array can be created with `np.array([...])`, whereas a diagonal array can be created with `np.diag([...])`.  "
   ]
  },
  {
   "cell_type": "code",
   "execution_count": null,
   "metadata": {},
   "outputs": [],
   "source": [
    "import numpy as np\n",
    "\n",
    "a = np.array([1, 2, 3])\n",
    "b = np.array([4, 5, 6])\n",
    "c = a + b  # Element-wise addition\n",
    "\n",
    "print(c)\n",
    "\n",
    "mat1 = np.array([[1, 2],\n",
    "                    [3, 4]])\n",
    "\n",
    "mat2 = np.array([[5, 6],\n",
    "                    [7, 8]])\n",
    "\n",
    "# Matrix multiplication using @ operator\n",
    "result1 = mat1 @ mat2\n",
    "\n",
    "# Matrix multiplication using np.dot()\n",
    "result2 = np.dot(mat1, mat2)\n",
    "\n",
    "print(result1) \n",
    "print(result2)"
   ]
  },
  {
   "cell_type": "markdown",
   "metadata": {},
   "source": [
    "### SciPy\n",
    "\n",
    "[SciPy](https://docs.scipy.org/doc/scipy/reference/) builds on NumPy and provides additional functionality for scientific and technical computing. It includes modules for optimization, integration, interpolation, eigenvalue problems, and other advanced mathematical operations.\n",
    "\n",
    "__Features__:\n",
    "\n",
    "+ Optimization: Functions for minimizing or maximizing objective functions.\n",
    "+ Integration: Numerical integration and differential equation solvers.\n",
    "+ Interpolation: Functions for interpolating data points.\n",
    "+ Signal Processing: Tools for filtering, spectral analysis, and signal manipulation."
   ]
  },
  {
   "cell_type": "code",
   "execution_count": null,
   "metadata": {},
   "outputs": [],
   "source": [
    "import numpy as np\n",
    "from scipy import linalg\n",
    "\n",
    "mat = np.array([[1, 2],\n",
    "                    [3, 4]])\n",
    "\n",
    "inverse_mat = linalg.inv(mat)   # Compute the inverse matrix\n",
    "\n",
    "print(inverse_mat)\n",
    "\n",
    "print(np.dot(mat,inverse_mat)) # Check the product gives the identity matrix\n"
   ]
  },
  {
   "cell_type": "markdown",
   "metadata": {},
   "source": [
    "### Matplotlib\n",
    "\n",
    "[Matplotlib](https://matplotlib.org/stable/api/index.html) is a plotting library for creating static, animated, and interactive visualizations in Python. It provides a flexible framework for creating various types of plots, including line plots, scatter plots, bar charts, histograms, etc."
   ]
  },
  {
   "cell_type": "code",
   "execution_count": null,
   "metadata": {},
   "outputs": [],
   "source": [
    "import matplotlib.pyplot as plt\n",
    "\n",
    "x = [1, 2, 3, 4, 5]\n",
    "y = [1, 4, 9, 16, 25]\n",
    "\n",
    "plt.plot(x, y)\n",
    "plt.xlabel('x')\n",
    "plt.ylabel('y')\n",
    "plt.title('Line Plot')\n",
    "plt.show()"
   ]
  },
  {
   "cell_type": "markdown",
   "metadata": {},
   "source": [
    "## Summary\n",
    "\n",
    "In this practical lesson, you should have learned the following:\n",
    "\n",
    "+ The main Python operators and data types. \n",
    "+ How to work with strings, tuples, lists, and dictionaries. \n",
    "+ Basic input/output screen interface.\n",
    "+ The main control flow structures.\n",
    "+ How to define your own functions and classes.\n",
    "+ How to import Python libraries.\n",
    "+ A brief introduction to NumPy, SciPy and Matplotlib. "
   ]
  }
 ],
 "metadata": {
  "kernelspec": {
   "display_name": "Python 3 (ipykernel)",
   "language": "python",
   "name": "python3"
  },
  "language_info": {
   "codemirror_mode": {
    "name": "ipython",
    "version": 3
   },
   "file_extension": ".py",
   "mimetype": "text/x-python",
   "name": "python",
   "nbconvert_exporter": "python",
   "pygments_lexer": "ipython3",
   "version": "3.12.3"
  },
  "toc-showtags": false
 },
 "nbformat": 4,
 "nbformat_minor": 4
}
