{
 "cells": [
  {
   "cell_type": "markdown",
   "metadata": {},
   "source": [
    "# Practical Session 2: Introduction to Python\n",
    "\n",
    "## Laboratorio de Robótica \n",
    "### Grado en Ingeniería Electrónica, Mecatrónica y Robótica\n",
    "### Universidad de Sevilla"
   ]
  },
  {
   "cell_type": "markdown",
   "metadata": {},
   "source": [
    "## Objectives\n",
    "\n",
    "The objective of this notebook is to propose some exercises to practise with Python and get familiar with data types, loops, functions, classes, and so on.\n",
    "\n",
    "After completing the missing code in this notebook, export it as a Python script. You can do that both using Jupyther Notebook or through the Jupyter extension in VS Code. Then name your file `exercises_sol.py` and commit it to your course Github repository, into a folder named `python_exercises`."
   ]
  },
  {
   "cell_type": "markdown",
   "metadata": {},
   "source": [
    "### Exercise 1\n",
    "\n",
    "Define a function called `squares` that, given a list `sec` of numbers, returns a list with the squares of those numbers, in the same order."
   ]
  },
  {
   "cell_type": "raw",
   "metadata": {
    "vscode": {
     "languageId": "raw"
    }
   },
   "source": [
    "# Examples:\n",
    "\n",
    "# squares([2, -1.2, 3e2, 1j]) should return [4, 1.44, 90000.0, (-1+0j)]\n",
    "# squares([i for i in range(10)]) should return [0, 1, 4, 9, 16, 25, 36, 49, 64, 81]"
   ]
  },
  {
   "cell_type": "code",
   "execution_count": null,
   "metadata": {},
   "outputs": [],
   "source": []
  },
  {
   "cell_type": "markdown",
   "metadata": {},
   "source": [
    "### Exercise 2\n",
    "\n",
    "A positive integer is said to be perfect if it coincides with the sum of all its proper divisors (that is, other than itself). Define a function called `write_perfect` that, given two positive integers `m` $\\leq$ `n`, returns a list with all the perfect numbers within the interval `[m, n]`. The function should also print on the screen each perfect number and its divisors. "
   ]
  },
  {
   "cell_type": "raw",
   "metadata": {
    "vscode": {
     "languageId": "raw"
    }
   },
   "source": [
    "# Examples:\n",
    "\n",
    "# write_perfect(1, 1000) should write on screen:\n",
    "# Number 6 is perfect and its divisors are [1, 2, 3]\n",
    "# Number 28 is perfect and its divisors are [1, 2, 4, 7, 14]\n",
    "# Number 496 is perfect and its divisors are [1, 2, 4, 8, 16, 31, 62, 124, 248]"
   ]
  },
  {
   "cell_type": "code",
   "execution_count": null,
   "metadata": {
    "tags": []
   },
   "outputs": [],
   "source": []
  },
  {
   "cell_type": "markdown",
   "metadata": {},
   "source": [
    "### Exercise 3\n",
    "\n",
    "Consider a dictionary whose keys are character strings of length one and the associated values ​​are non-negative integers, such as the following dictionary `d`:"
   ]
  },
  {
   "cell_type": "code",
   "execution_count": null,
   "metadata": {
    "tags": []
   },
   "outputs": [],
   "source": [
    "d = {'a': 5, 'b': 10, 'c': 12, 'd': 11, 'e': 15, 'f': 20, 'g': 15, 'h': 9, 'i': 7, 'j': 2}"
   ]
  },
  {
   "cell_type": "markdown",
   "metadata": {},
   "source": [
    "Define a function called `horizontal_histogram` that, given a dictionary of the previous type, writes the associated histogram of horizontal bars on the screen, printing the bars from top to bottom in the order determined by the `sorted` function on the keys, as illustrated in the following example:"
   ]
  },
  {
   "cell_type": "raw",
   "metadata": {
    "vscode": {
     "languageId": "raw"
    }
   },
   "source": [
    "# horizontal_histogram(d)\n",
    "# a: *****\n",
    "# b: **********\n",
    "# c: ************\n",
    "# d: ***********\n",
    "# e: ***************\n",
    "# f: ********************\n",
    "# g: ***************\n",
    "# h: *********\n",
    "# i: *******\n",
    "# j: **"
   ]
  },
  {
   "cell_type": "code",
   "execution_count": null,
   "metadata": {
    "tags": []
   },
   "outputs": [],
   "source": []
  },
  {
   "cell_type": "markdown",
   "metadata": {},
   "source": [
    "### Exercise 4\n",
    "\n",
    "Suppose we want to simulate the trajectory of a drone that is launched at a given point with a certain initial height. The drone is launched forward with an initial speed and at a certain angle without propulsion motors on. Initially it will advance upwards, but due to the force of gravity, at a given moment it will begin to descend until it lands. For simplicity, we will assume that there is no friction or wind resistance.\n",
    "\n",
    "Define a class `Drone` that represents the state of the drone at a given instant of time. At least, the class should include attributes to store the following data:\n",
    "+ Traveled distance traveled (horizontally)\n",
    "+ Height\n",
    "+ Horizontal speed\n",
    "+ Vertical speed\n",
    "\n",
    "In addition, apart from its constructor, the class should have the following three methods:\n",
    "+ `get_pos_x`: it returns the horizontal traveled distance \n",
    "+ `get_pos_y`: it returns the vertical traveled distance \n",
    "+ `update_position`: given a number `t` of seconds, it updates the position and velocity of the projectile after that time has elapsed\n",
    "\n",
    "Once the `Drone` class is defined, define an external function called `land` that, given the `height` (meters), `velocity` (meters per second), `angle` (degrees) and time `step` (seconds), prints on the screen the different positions of a drone launched with that initial `height`, `velocity` and `angle`. The position of the drone should be displayed at each `step` of time, until it lands. The function should also print the maximum height reached by the drone, the total distance traveled horizontally and the time and number of steps that it took it to land.\n",
    "\n",
    "Indications:\n",
    "1. If the drone has an initial velocity $v$ and is launched at an angle $\\theta$, the horizontal and vertical components of the initial velocity are $v \\times \\cos(\\theta)$ and $v \\times \\ sin(\\theta)$, respectively.\n",
    "2. The horizontal component of velocity, in the absence of friction and wind, will remain constant.\n",
    "3. The vertical component of the velocity evolves throughout time: if $vy_0$ is the initial vertical velocity, after a time step $t$, the velocity will be $vy_1 = vy_0 - 9.8 \\times t$, due to the Earth's gravity.\n",
    "4. Also, if $h_0$ is the initial drone height, after a time step $t$, the height will be $h_1 = h_0 + vm \\times t$, where $vm$ is the average between the previous $vy_0$ and $vy_1$."
   ]
  },
  {
   "cell_type": "raw",
   "metadata": {
    "vscode": {
     "languageId": "raw"
    }
   },
   "source": [
    "# Example:\n",
    "\n",
    "# land(30, 1, 20, 0.1)\n",
    "# Drone at position(0.0, 30.0)\n",
    "# Drone at position(0.1, 30.0)\n",
    "# Drone at position(0.2, 29.9)\n",
    "# Drone at position(0.3, 29.7)\n",
    "# Drone at position(0.4, 29.4)\n",
    "# Drone at position(0.5, 28.9)\n",
    "# Drone at position(0.6, 28.4)\n",
    "# Drone at position(0.7, 27.8)\n",
    "# Drone at position(0.8, 27.1)\n",
    "# Drone at position(0.8, 26.3)\n",
    "# Drone at position(0.9, 25.4)\n",
    "# Drone at position(1.0, 24.4)\n",
    "# Drone at position(1.1, 23.4)\n",
    "# Drone at position(1.2, 22.2)\n",
    "# Drone at position(1.3, 20.9)\n",
    "# Drone at position(1.4, 19.5)\n",
    "# Drone at position(1.5, 18.0)\n",
    "# Drone at position(1.6, 16.4)\n",
    "# Drone at position(1.7, 14.7)\n",
    "# Drone at position(1.8, 13.0)\n",
    "# Drone at position(1.9, 11.1)\n",
    "# Drone at position(2.0, 9.1)\n",
    "# Drone at position(2.1, 7.0)\n",
    "# Drone at position(2.2, 4.9)\n",
    "# Drone at position(2.3, 2.6)\n",
    "# Drone at position(2.3, 0.2)\n",
    "\n",
    "# After 26 steps of 0.1 seconds (2.6 seconds), the drone has landed.\n",
    "# It has traveled a distance of 2.4 meters.\n",
    "# It has reached a maximum height of 30.0 meters."
   ]
  },
  {
   "cell_type": "code",
   "execution_count": null,
   "metadata": {
    "tags": []
   },
   "outputs": [],
   "source": []
  },
  {
   "cell_type": "markdown",
   "metadata": {},
   "source": [
    "### Exercise 5\n",
    "\n",
    "Define a function called `matrix_operation` that receives an integer `n` as argument. The function should create a NumPy array (vector) with the integers within the interval $[n,n+25)$ and perform the following operations:\n",
    "\n",
    "+ Calculate the mean and standard deviation of the array and print it on the screen.\n",
    "+ Reshape the array into a 5x5 matrix, calculate the determinant of the matrix and print the result on the screen.\n",
    "+ Return a tuple with the three computed values `(mean, std, determinant)`."
   ]
  },
  {
   "cell_type": "raw",
   "metadata": {
    "vscode": {
     "languageId": "raw"
    }
   },
   "source": [
    "# Example\n",
    "\n",
    "# matrix_operation(1)\n",
    "# The mean and standard deviation of the vector is 13.0 +/- 7.211102550927978.\n",
    "# The determinant of the matrix is 0.0."
   ]
  },
  {
   "cell_type": "code",
   "execution_count": null,
   "metadata": {},
   "outputs": [],
   "source": []
  },
  {
   "cell_type": "markdown",
   "metadata": {},
   "source": [
    "### Exercise 6\n",
    "\n",
    "Create a function called `plot_functions` that makes a figure and plot the following functions over the range $[0, 10]$:\n",
    "\n",
    "+ $y_1 = sin(x)$\n",
    "+ $y_2 = cos(x)$\n",
    "\n",
    "The figure should also include appropriate labels, title, and a legend."
   ]
  },
  {
   "cell_type": "code",
   "execution_count": null,
   "metadata": {},
   "outputs": [],
   "source": []
  }
 ],
 "metadata": {
  "kernelspec": {
   "display_name": "Python 3 (ipykernel)",
   "language": "python",
   "name": "python3"
  },
  "language_info": {
   "codemirror_mode": {
    "name": "ipython",
    "version": 3
   },
   "file_extension": ".py",
   "mimetype": "text/x-python",
   "name": "python",
   "nbconvert_exporter": "python",
   "pygments_lexer": "ipython3",
   "version": "3.12.3"
  }
 },
 "nbformat": 4,
 "nbformat_minor": 4
}
