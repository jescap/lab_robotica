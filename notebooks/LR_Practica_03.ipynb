{
 "cells": [
  {
   "cell_type": "markdown",
   "id": "e2fe7b14",
   "metadata": {},
   "source": [
    "# Practical Session 3: Running ROS in a Docker container\n",
    "\n",
    "## Laboratorio de Robótica \n",
    "### Grado en Ingeniería Electrónica, Mecatrónica y Robótica\n",
    "### Universidad de Sevilla"
   ]
  },
  {
   "cell_type": "markdown",
   "id": "43cff7e9",
   "metadata": {},
   "source": [
    "## Objectives\n",
    "\n",
    "In this practical session, we will learn the basics of Docker containers and how to use them to run ROS (Robot Operating System). ROS is a set of software libraries and tools that help you build robot applications, including hardware drivers, state-of-the-art algorithms, robotics simulators, powerful developer tools, and much more. ROS is open-source and has a strong support from the robotics community, so you can find a wide spectrum of available packages for your robotics application. Although ROS can run on different platforms, its most widely used and supported platform is Ubuntu. One option would be to install Ubuntu and ROS on your computer, but in this course we will use a more powerful tool, which is Docker containers. In particular, in this session, we'll learn a bit more about:\n",
    "\n",
    "+ Using Docker for application development.\n",
    "+ Running ROS on a Docker container.\n",
    "+ Simulating our mobile robot Turtlebot 3 in the Gazebo simulator."
   ]
  },
  {
   "cell_type": "markdown",
   "id": "6670a7d3",
   "metadata": {},
   "source": [
    "## Docker\n",
    "\n",
    "[Docker](https://www.docker.com/) is an open platform for developing, shipping, and running applications. It enables you to separate your applications from your infrastructure so you can deliver software quickly. Docker allows developers to easily deploy their applications in a _**container**_ running on a host operating system. The container will package and run your application in an isolated environment that can be based on a different operating system. The key benefit of Docker is that it allows users to package an application with all of its dependencies into a standardized unit for software development. Unlike virtual machines, containers do not have high overhead and hence enable more efficient usage of the underlying system and resources. Thus, you can run many containers simultaneously on a given host. As they are lightweight and contain everything needed to run the application, you don't need to rely on what's installed on the host. Moreover, you can share containers while you work, and be sure that everyone you share with gets the same container that works in the same way."
   ]
  },
  {
   "cell_type": "markdown",
   "id": "a6332dee",
   "metadata": {},
   "source": [
    "\n",
    "### Main concepts\n",
    "\n",
    "\n",
    "#### Images\n",
    "\n",
    "An image is a read-only template with instructions for creating a Docker container. Often, an image is based on another image, with some additional customization. For example, you may build an image which is based on an Ubuntu image, and install ROS and your robotics application on top, as well as the configuration details needed to make your application run. An image is a standardized package that includes all the configuration files, binaries and libraries to run a container. Images are immutable, once created, they cannot be modified. You can only make a new image or add changes on top of it. Moreover, images are composed of layers, and each layer represents a set of file system changes that add, remove, or modify files.\n",
    "\n",
    "\n",
    "You might use images created by others and published in a registry or create your own images. To build your own image, you create a __Dockerfile__ with a simple syntax for defining the steps needed to create the image and run it. Each instruction in a Dockerfile creates a layer in the image. When you change the Dockerfile and rebuild the image, only those layers which have changed are rebuilt. This is part of what makes images so lightweight, small, and fast, when compared to other virtualization technologies.\n",
    "\n",
    "\n",
    "#### Docker registries\n",
    "A Docker registry stores Docker images. [Docker Hub](https://hub.docker.com) is a public registry with over 100,000 images that you can run locally created by developers. By default, Docker searches for images on Docker Hub, but you could also run your own private registry.\n",
    "\n",
    "\n",
    "#### Containers\n",
    "A container is a runnable instance of an image. You can create, start, stop, or delete a container using the Docker GUI or CLI. You can run multiple containers from the same image, connect them to the same (or different) network, attach storage to them, etc. By default, a container is relatively well isolated from other containers and its host machine, but this level of isolation can also be configured. \n",
    "\n",
    "For further information about how Docker works, check its [documentation](https://docs.docker.com/get-started)."
   ]
  },
  {
   "cell_type": "markdown",
   "id": "11c600ed",
   "metadata": {},
   "source": [
    "\n",
    "### Installation\n",
    "\n",
    "__Windows/macOS__\n",
    "\n",
    "Install Docker Desktop for Windows (Windows 10 or 11 is required) or macOS with the [installer](https://docs.docker.com/get-started/get-docker). Select the WSL backend during installation. \n",
    "\n",
    "__Important: Before using Docker commands in the terminal, you should start the Docker Desktop application in the background.__ \n",
    "\n",
    "If you find issues when starting Docker Desktop, you may need to enable virtualization features in your computer BIOS, VT-x y VT-d for Intel, AMD-V y AMD-Vi for AMD. Make also sure that Hyper-V is activated. Hyper-V is a Microsoft virtualization tool that comes installed with Windows and is used by WSL. VirtualBox or VMWare have their on hypervisor and may switch off Hyper-V for compatibility. If you find issues running WSL when starting Docker Desktop, make sure that Hyper-V is activated. Run `bcdedit | findstr \"hypervisorlaunchtype\"` to check whether this feature is off. You can activate it with `bcdedit /set hypervisorlaunchtype auto`.\n",
    "\n",
    "__Ubuntu__\n",
    "\n",
    "Install Docker Engine for Ubuntu (Ubuntu 20.04 LTS or newer is required). Follow the instructions [here](https://docs.docker.com/engine/install/ubuntu/), in Section \"Install using the apt repository\". Then follow [post-install instructions for Linux](https://docs.docker.com/engine/install/linux-postinstall)."
   ]
  },
  {
   "cell_type": "markdown",
   "id": "5b45e5bc",
   "metadata": {},
   "source": [
    "### Using Docker containers\n",
    "\n",
    "In this section, we are going to learn the basic commands to run Docker containers. You can find a cheat sheet with these main commands [here](https://docs.docker.com/get-started/docker_cheatsheet.pdf). First, let's download a simple test Docker image:"
   ]
  },
  {
   "cell_type": "code",
   "execution_count": null,
   "id": "329717fc",
   "metadata": {
    "vscode": {
     "languageId": "shellscript"
    }
   },
   "outputs": [],
   "source": [
    "docker pull hello-world "
   ]
  },
  {
   "cell_type": "markdown",
   "id": "1d2e159e",
   "metadata": {},
   "source": [
    "\n",
    "The `pull` command allows you to pull any image which is present in the official registry of docker, Docker hub. By default, it pulls the latest image, but you can also specify the image version. You can use the command `docker images` to see a list of all images downloaded on your system. Let's now run a Docker container based on this image: "
   ]
  },
  {
   "cell_type": "code",
   "execution_count": null,
   "id": "b0b46d89",
   "metadata": {
    "vscode": {
     "languageId": "shellscript"
    }
   },
   "outputs": [],
   "source": [
    "docker run hello-world"
   ]
  },
  {
   "cell_type": "markdown",
   "id": "3cee920c",
   "metadata": {},
   "source": [
    "\n",
    "This creates a new container from the image `hello-world` and starts that container. If it were not present on the system, the image is first pulled. The `docker ps` command shows you all the containers that are currently running; you can use `docker ps -a` to show also not running containers. `hello-world` is a quite simple image that only runs a binary file that prints a message. You should have seen that message after running the container. \n",
    "\n",
    "Instead of using the container ID (which looks like an arbitrary number) to refer to a certain container, you can also specify a container name before the image name `docker run --name <container_name> <image_name>`. Let's run a more interesting container:"
   ]
  },
  {
   "cell_type": "code",
   "execution_count": null,
   "id": "fba06b57",
   "metadata": {
    "vscode": {
     "languageId": "shellscript"
    }
   },
   "outputs": [],
   "source": [
    "docker run --name ubuntu_container -it ubuntu bash"
   ]
  },
  {
   "cell_type": "markdown",
   "id": "eee18366",
   "metadata": {},
   "source": [
    "If it is not on your system, the previous command will first pull the `ubuntu` image, which replicates an Ubuntu file system. Using the `run` command with the `-it` flag moves you into an interactive terminal session where you can execute commands inside the container. The `bash` command is specified as the first command for that container, so it will be as if you were in a new bash terminal separate from your host machine and inside the container. If you don't specify `bash` (or another initial command) when running the container, Docker will run the default command defined in the container's image. \n",
    "\n",
    "Try to run some Linux commands inside the container to check the Ubuntu file system, e.g., `ls` and `cd`. Then open another terminal in your host machine and list your containers with `docker ps -a`. Note that now your running container is named `ubuntu_container`, which is the name you specified. \n",
    "\n",
    "So far, you have a running container with an interactive terminal session to execute commands inside. However, you may need more than one terminal to run multiple commands in parallel in the same container. For that, open another terminal in your host machine and type:"
   ]
  },
  {
   "cell_type": "code",
   "execution_count": null,
   "id": "9f4e7cc9",
   "metadata": {
    "vscode": {
     "languageId": "shellscript"
    }
   },
   "outputs": [],
   "source": [
    "docker exec -it ubuntu_container bash"
   ]
  },
  {
   "cell_type": "markdown",
   "id": "963f6399",
   "metadata": {},
   "source": [
    "The previous command opens a new bash shell inside your running container `ubuntu_container`. At some point, you may want to stop a container because it crashed or to switch to another one. You may also want to start the container again later. To start or stop an existing container, use `docker start|stop <container_name> (or <container_ID>)`.\n",
    "\n",
    "Docker containers occupy space on your host's disk, so it is good practice to clean up containers once you are done with them. List your containers with `docker ps -a` and use the `docker rm <container_name` command to remove them. You can also delete images that you no longer need by running `docker rmi <image_name>`. For instance, if you had the following containers, once stopped, you could remove them with the command `docker rm ubuntu_container 8987409a69d4`: \n",
    "\n",
    "<figure style=\"text-align:center\">\n",
    "  <img src=\"images/docker_terminal.png\" alt=\"\" width=1100>\n",
    "  <figcaption>Fig. 1: Example Docker container list.</figcaption>\n",
    "</figure>"
   ]
  },
  {
   "cell_type": "markdown",
   "id": "a1766f1d",
   "metadata": {},
   "source": [
    "## Running ROS in a Docker container\n",
    "\n",
    "In this section, we will set up and run our Docker container with ROS. You can build a customized Docker image from a Dockerfile with `docker build -t <image_name>`. A Dockerfile is a simple text file that contains a list of commands that Docker calls while creating an image. It's a simple way to automate the image creation process. The commands you write in a Dockerfile are almost identical to their equivalent Linux commands.\n",
    "\n",
    "<figure style=\"text-align:center\">\n",
    "  <img src=\"images/dockerfile.png\" alt=\"\" width=600>\n",
    "  <figcaption>Fig. 2: Docker working scheme.</figcaption>\n",
    "</figure>\n",
    "\n",
    "Have a look at the Dockerfile in the _docker_ folder of the course repository:"
   ]
  },
  {
   "cell_type": "code",
   "execution_count": null,
   "id": "16f89e75",
   "metadata": {
    "vscode": {
     "languageId": "shellscript"
    }
   },
   "outputs": [],
   "source": [
    "FROM osrf/ros:noetic-desktop-full\n",
    "\n",
    "SHELL [\"/bin/bash\", \"-c\"] \n",
    "\n",
    "# Required ROS packages  \n",
    "RUN sudo apt update && apt install -y ros-noetic-joy ros-noetic-teleop-twist-joy \\\n",
    "    ros-noetic-teleop-twist-keyboard ros-noetic-laser-proc \\\n",
    "    ros-noetic-rgbd-launch ros-noetic-rosserial-arduino \\\n",
    "    ros-noetic-rosserial-python ros-noetic-rosserial-client \\\n",
    "    ros-noetic-rosserial-msgs ros-noetic-amcl ros-noetic-map-server \\\n",
    "    ros-noetic-move-base ros-noetic-urdf ros-noetic-xacro \\\n",
    "    ros-noetic-compressed-image-transport ros-noetic-rqt* ros-noetic-rviz \\\n",
    "    ros-noetic-gmapping ros-noetic-navigation ros-noetic-interactive-markers \\\n",
    "    ros-noetic-vision-msgs\n",
    "\n",
    "# ROS packages for Turtlebot3 robot     \n",
    "RUN sudo apt install -y ros-noetic-dynamixel-sdk \\\n",
    "    ros-noetic-turtlebot3-*\n",
    "\n",
    "# We also install Git and file editors, just in case\n",
    "RUN sudo apt install -y git vim nano iputils-ping net-tools\n",
    "\n",
    "# MESA drivers for hardware acceleration graphics (Gazebo and RViz)\n",
    "RUN sudo apt -y install libgl1-mesa-glx libgl1-mesa-dri && \\\n",
    "    rm -rf /var/lib/apt/lists/*\n",
    "\n",
    "# Create a user provided as build argument\n",
    "ARG USER_NAME=student\n",
    "ARG USER_ID=1000\n",
    "ARG GROUP_ID=${USER_ID}\n",
    "\n",
    "RUN groupadd -g ${GROUP_ID} ${USER_NAME} && \\\n",
    "    useradd -m -u ${USER_ID} -g ${GROUP_ID} -s /bin/bash ${USER_NAME} && \\\n",
    "    echo \"${USER_NAME} ALL=(ALL) NOPASSWD:ALL\" >> /etc/sudoers\n",
    "\n",
    "# Source the ROS installation\n",
    "RUN echo \"source /opt/ros/noetic/setup.bash\" >> /home/${USER_NAME}/.bashrc && \\\n",
    "    echo \"export TURTLEBOT3_MODEL=burger\" >> /home/${USER_NAME}/.bashrc\n",
    "\n",
    "# Working directory inside our container\n",
    "USER ${USER_NAME}\n",
    "WORKDIR /home/${USER_NAME}/lab_rob_shared"
   ]
  },
  {
   "cell_type": "markdown",
   "id": "244e8b89",
   "metadata": {},
   "source": [
    "We will use that Dockerfile to build our image with ROS. Move to the folder containing the Dockerfile and type:\n",
    "\n",
    "__Windows__"
   ]
  },
  {
   "cell_type": "code",
   "execution_count": null,
   "id": "962d6730",
   "metadata": {
    "vscode": {
     "languageId": "shellscript"
    }
   },
   "outputs": [],
   "source": [
    "docker build --build-arg USER_NAME=[USER] -t lab_rob_image ."
   ]
  },
  {
   "cell_type": "markdown",
   "id": "0c494e33",
   "metadata": {},
   "source": [
    "__Note:__ You should replace `[USER]` with the user name that you want to use in your container. You could use the same user as in Windows, but avoid user names with blank spaces. They can give issues in a Linux container.  \n",
    "\n",
    "__Ubuntu/macOS__\n",
    "\n",
    "In Ubuntu and macOS, you could also specify a user name for the container or directly inherit the user name and id from your host machine (recommended): "
   ]
  },
  {
   "cell_type": "code",
   "execution_count": null,
   "id": "200a52c1",
   "metadata": {
    "vscode": {
     "languageId": "shellscript"
    }
   },
   "outputs": [],
   "source": [
    "docker build --build-arg USER_UID=$(id -u) --build-arg USER_GID=$(id -g) --build-arg USER_NAME=$(id -un) -t lab_rob_image ."
   ]
  },
  {
   "cell_type": "markdown",
   "id": "68bafc20",
   "metadata": {},
   "source": [
    "__Note:__ In case no user name is specified when building the image, the Dockerfile will create a default user named `student`.\n",
    "\n",
    "The above command will build a new image called `lab_rob_image`. The dot indicates that the Dockerfile is in the current repository. The instructions in the Dockerfile are used to create the image. The following type of commands are included:\n",
    "\n",
    "+ `FROM`: It specifies a base image to initialize the first layer. We use an official image with a Linux file system and ROS Noetic installed.\n",
    "+ `SHELL`: It specifies the default shell to run subsequent commands. \n",
    "+ `RUN`: It runs a script or command. In particular, our Dockerfile uses it to install a series of additional ROS packages and drivers that will be necessary.\n",
    "+ `ARG`: It specifies a build-time argument. A default value can be set in case the argument is not provided in build time.\n",
    "+ `USER`: It specifies the user name who will run the containers of this image by default. \n",
    "+ `WORKDIR`: It sets the working directory for any following instructions in the Dockerfile. The container will start in that directory. If the directory specified by WORKDIR doesn't exist, it will be created. \n",
    "\n",
    "You can learn all possible instructions in Dockerfiles [here](https://docs.docker.com/reference/dockerfile/). Other common instructions not used in our Dockerfile are the following:\n",
    "\n",
    "+ `COPY`: It copies new files or directories and adds them to the file system of the image.\n",
    "+ `CMD`: It tells the container which command to run when started. This command can be overriden when launching a container.\n",
    "+ `ENV`: It sets an environment variable. This variable will be accessible during the build process and once the container is run."
   ]
  },
  {
   "cell_type": "markdown",
   "id": "1547bb79",
   "metadata": {},
   "source": [
    "### Running the container with a bind mount and GUI support\n",
    "\n",
    "Running our container and executing a terminal sounds cool, but there are a couple of additional features that would be quite helpful: 1) how to exchange data with the container; and 2) how to run graphical applications in the container. This would allow us to load our code into the container and then retreive any data generated within it. Additionally, we could run applications that use graphics, such as simulators or visualization tools. Fortunately, Docker provides solutions for both issues. \n",
    "\n",
    "Docker allows you to create a virtual volume for a container, where your data can persist after stopping the container. A volume mount is a great choice when you need somewhere persistent to store your application data. A __bind mount__ is another type of mount, which allows you to share a directory from the host's file system with the container. For instance, you can use this shared directory to store your workspace with your code. The container will see the changes you make to the code immediately, as soon as you save a file, but you won't need to copy that code into the container. You can check more information about bind mounts in Docker [here](https://docs.docker.com/get-started/workshop/06_bind_mounts/). \n",
    "\n",
    "In short, you can create a link between a directory in the host machine and a directory in the container by adding the flag `--mount` to the Docker running command:"
   ]
  },
  {
   "cell_type": "code",
   "execution_count": null,
   "id": "108c6903",
   "metadata": {
    "vscode": {
     "languageId": "shellscript"
    }
   },
   "outputs": [],
   "source": [
    "docker run -it --mount type=bind,source=/home/[USER]/lab_rob_shared,target=/home/[USER]/lab_rob_shared lab_rob_image bash"
   ]
  },
  {
   "cell_type": "markdown",
   "id": "6d768e88",
   "metadata": {},
   "source": [
    "The previous command creates a link between the directory `lab_rob_shared` in the host machine and another one in the container, mounted on `/home/[USER]/lab_rob_shared`. Therefore, that shared directory will be accessible from both the container and the host.   \n",
    "\n",
    "__Note 1:__ The previous command assumes the existence of the host directory `/home/[USER]/lab_rob_shared`. Make sure to create first that shared directory in your computer, replacing `[USER]` with your own user's name. If you are using Windows, the path could be `C:\\Users\\[USER]\\lab_rob_shared`.\n",
    "\n",
    "__Note 2:__ The idea is to use the container to compile and execute your ROS code, but to edit it on your host computer. \n",
    "\n",
    "\n",
    "#### GUI support\n",
    "\n",
    "Regarding graphical applications, we can enable the use of GUIs within Docker containers by means of the X server. The X server is a windowing system for bitmap displays commonly in Linux operating systems. We can connect a container to the host's X server for display. \n",
    "\n",
    "__Note:__ There are other options to run Docker containers with GUI support. In case you need more information about that, check it [here](https://wiki.ros.org/es/docker/Tutorials/GUI). \n",
    "\n",
    "__Ubuntu__\n",
    "\n",
    "If your host machine is running Ubuntu, there is already an X server, so we just need to add some flags when running the Docker container:"
   ]
  },
  {
   "cell_type": "code",
   "execution_count": null,
   "id": "57fbe3ad",
   "metadata": {
    "vscode": {
     "languageId": "shellscript"
    }
   },
   "outputs": [],
   "source": [
    "xhost +local:docker\n",
    "docker run -it \\\n",
    "    --env=\"DISPLAY=$DISPLAY\" \\\n",
    "    --env=\"QT_X11_NO_MITSHM=1\" \\\n",
    "    --volume=\"/tmp/.X11-unix:/tmp/.X11-unix\" \\\n",
    "    --name lab_rob_container \\\n",
    "    --net=host \\\n",
    "    --privileged \\\n",
    "    --mount type=bind,source=/home/[USER]/lab_rob_shared,target=/home/[USER]/lab_rob_shared \\\n",
    "    lab_rob_image \\\n",
    "    bash"
   ]
  },
  {
   "cell_type": "markdown",
   "id": "532c1ec1",
   "metadata": {},
   "source": [
    "With the previous command, we would run the container connected to the host's X server, to run GUI applications, and with a bind mount to share a directory with the host machine. First, the `xhost` command adjusts the permissions of the X server on your host.\n",
    "Then we call `docker run` to run a container called `lab_rob_container` from our previously created image `lab_rob_image`. The first three flags are required to enable graphical applications. The `--mount` flag at the end is to create the shared folder ` lab_rob_shared` between the container and the host.  \n",
    "\n",
    "Instead of writing or copying the previous command in the terminal each time you want to run the container, we provide a\n",
    "bash script called `run_container_linux.bash` in the `docker` directory of the course repository. Before running the script, you should edit it to write the correct path of your shared directory in the mount flag and change the script execution permissions:"
   ]
  },
  {
   "cell_type": "code",
   "execution_count": null,
   "id": "5c0ae5a5",
   "metadata": {
    "vscode": {
     "languageId": "shellscript"
    }
   },
   "outputs": [],
   "source": [
    "chmod a+x run_container_linux.bash\n",
    "./run_container_linux.bash"
   ]
  },
  {
   "cell_type": "markdown",
   "id": "2791d49f",
   "metadata": {},
   "source": [
    "__Windows and macOS__\n",
    "\n",
    "The steps to run GUIs in Docker containers are different if your host machine is Windows or macOS. First, you need to install an X server. On Windows, you can use [Xming](http://www.straightrunning.com/XmingNotes/) (any other X server should also work). If you want to use Xming, go to the web site and download and install in the same directory the __public domain releases of Xming and Xming-fonts__. On macOS, XQuartz is a common choice; you can install it with: `brew install --cask xquartz`. Once you have an X server installed, start it before running your container. For example, Xming can be configured and run with the __XLaunch application on Windows__. Then you can run the Docker container as follows:"
   ]
  },
  {
   "cell_type": "code",
   "execution_count": null,
   "id": "259d075d",
   "metadata": {
    "vscode": {
     "languageId": "shellscript"
    }
   },
   "outputs": [],
   "source": [
    "docker run -it ^\n",
    "--env=\"DISPLAY=host.docker.internal:0\" ^\n",
    "--name lab_rob_container ^\n",
    "--net=host ^\n",
    "--privileged ^\n",
    "--mount type=bind,source=C:\\Users\\[USER]\\lab_rob_shared,target=/home/[USER]/lab_rob_shared ^\n",
    "lab_rob_image ^\n",
    "bash"
   ]
  },
  {
   "cell_type": "markdown",
   "id": "a9e5c238",
   "metadata": {},
   "source": [
    "With the previous command, we would run the container connected to the host's X server, to run GUI applications, and with a bind mount to share a directory with the host machine. We call `docker run` to run a container called `lab_rob_container` from our previously created image `lab_rob_image`. The first flag is required to enable graphical applications. The `--mount` flag at the end is to create the shared folder `lab_rob_shared` between the container and the host.  \n",
    "\n",
    "Instead of writing or copying the previous command in the terminal each time you want to run the container, we provide scripts in the `docker` directory of the course repository, `run_container_windows.bat` or `run_container_mac.bash`, depening on your system. Before running the script, you should edit it to write the correct path of your shared directory in the mount flag and change the script execution permissions:"
   ]
  },
  {
   "cell_type": "code",
   "execution_count": null,
   "id": "9e2c9fdf",
   "metadata": {
    "vscode": {
     "languageId": "shellscript"
    }
   },
   "outputs": [],
   "source": [
    "# For Windows\n",
    "run_container_windows.bat\n",
    "\n",
    "# For macOS\n",
    "chmod a+x run_container_mac.bash\n",
    "./run_container_mac.bash"
   ]
  },
  {
   "cell_type": "markdown",
   "id": "137b61b2",
   "metadata": {},
   "source": [
    "__Exercise 1__\n",
    "\n",
    "Create in your machine your shared directory called `lab_rob_shared`. Then create the ROS Docker image from the provided Dockerfile and use the aforementioned scripts to run a Docker container with a bind mount and GUI support. In the container, run a ROS simulation of the Turtlebot3 robot with the command: `roslaunch turtlebot3_gazebo turtlebot3_empty_world.launch`. Finally, open another terminal within the same container and run a ROS teleoperation interface to move the robot with the keyboard: `roslaunch turtlebot3_teleop turtlebot3_teleop_key.launch`. \n",
    "\n",
    "__Note:__ The provided script is only used one time, to start the container. Once you have your container running, if you want to open additional terminals in this container, use the command: `docker exec -it lab_rob_container bash`. "
   ]
  },
  {
   "cell_type": "markdown",
   "id": "c54c884a",
   "metadata": {},
   "source": [
    "## Summary\n",
    "\n",
    "In this practical session, you should have learned the following:\n",
    "+ How to install Docker and how to use it to create images and run containers.\n",
    "+ How to run our ROS container with GUI support and a shared directory with your code repository."
   ]
  }
 ],
 "metadata": {
  "kernelspec": {
   "display_name": "Python 3 (ipykernel)",
   "language": "python",
   "name": "python3"
  },
  "language_info": {
   "codemirror_mode": {
    "name": "ipython",
    "version": 3
   },
   "file_extension": ".py",
   "mimetype": "text/x-python",
   "name": "python",
   "nbconvert_exporter": "python",
   "pygments_lexer": "ipython3",
   "version": "3.12.3"
  }
 },
 "nbformat": 4,
 "nbformat_minor": 5
}
