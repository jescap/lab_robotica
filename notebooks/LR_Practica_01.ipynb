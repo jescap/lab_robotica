{
 "cells": [
  {
   "cell_type": "markdown",
   "id": "e2fe7b14",
   "metadata": {},
   "source": [
    "# Practical Session 1: Tools for robotics\n",
    "\n",
    "## Laboratorio de Robótica \n",
    "### Grado en Ingeniería Electrónica, Mecatrónica y Robótica\n",
    "### Universidad de Sevilla"
   ]
  },
  {
   "cell_type": "markdown",
   "id": "43cff7e9",
   "metadata": {},
   "source": [
    "## Objectives\n",
    "\n",
    "In this first practical session, we will learn how to install, configure and use some helpful tools for software development in robotics systems. These tools will help you complete this course but may also be helpful for other courses or in your professional career. All tools presented are multi-platform, so each student is free to setup its working environment in Windows, Linux (Ubuntu recommended) or macOS, according to his/her preferences. In particular, in this session, we'll learn a bit more about:\n",
    "\n",
    "+ Visual Studio Code\n",
    "+ Git and GitHub\n",
    "+ Jupyter Notebook\n",
    "+ Google Colab\n",
    "\n",
    "__Note:__ During this course, we will make extensive use of _Command Line Interfaces_ (CLI), i.e., we'll use the terminal to install and configure multiple packages and to work with some of the presented tools. If you are not familiar with terminal commands, have a look to the basic [Linux](https://www.geeksforgeeks.org/linux-commands-cheat-sheet/?ref=outind) or [Windows](https://www.stationx.net/windows-command-line-cheat-sheet/) commands. Moreover, if you are interested in learning a bit more about Linux, check on the following [tutorial](https://www.geeksforgeeks.org/linux-tutorial/?ref=outind). macOS is built upon Unix, so terminal commands are the same as for Linux.\n"
   ]
  },
  {
   "cell_type": "markdown",
   "id": "6371c7b2",
   "metadata": {},
   "source": [
    "## Visual Studio Code\n",
    "\n",
    "Visual Studio Code is a lightweight but powerful source code editor which runs on your desktop and is available for Windows, macOS and Linux. VS Code has many extensions to support almost every major programming language, including language highlighting, formating, autocompletion and other useful features. Extensions also integrate into  commands to easily work with different technologies through the VS Code's GUI (_Graphical User Interface_). \n",
    "\n",
    "<figure style=\"text-align:center\">\n",
    "  <img src=\"images/vs_code_gui.png\" alt=\"\" width=800>\n",
    "  <figcaption>Fig. 1: VS Code GUI.</figcaption>\n",
    "</figure>\n",
    "\n",
    "You can download VS Code for Windows, macOS or Linux [here](https://code.visualstudio.com/Download). For Linux, we recommed the .deb package rather than snap. __Note:__ If you cannot install a deb package in Ubuntu, go to the Ubuntu Software Center and install the Gdebi Package Installer first.\n",
    "\n",
    "After installing VS Code, you can configure your favourite theme and go to the __extension__ manager to install the ones we will use during this course: __Python, Jupyter, and Docker__."
   ]
  },
  {
   "cell_type": "markdown",
   "id": "4691be33",
   "metadata": {},
   "source": [
    "## Git\n",
    "\n",
    "Git is a version control system that records changes to a file or set of files over time so that you can recall specific versions later. It is a quite helpful and extended tool to manage source code repositories. The basic concepts are as follows:\n",
    "\n",
    "+ Git is based on snapshots of the code in a given state, which is given by the author and the date.\n",
    "+ A _commit_ is a set of changes in the files being tracked, which is saved to the Git _repository_ with a unique identifier.\n",
    "+ _Branches_ can be thought of as a timeline starting from commits and allow you to work with multiple chains of commits inside a project. There is always at least one main or predefined branch called _master_.\n",
    "+ _HEAD_ is a pointer to the last commit in the active branch.\n",
    "+ _Remote_ refers to sites that host remote repositories such as GitHub.\n",
    "\n",
    "\n",
    "### Git basic operations\n",
    "\n",
    "__Clone:__ This operation creates the instance of the repository. It checks out all files in the repository in a local working directory. Users can perform many operations with this local repository. The only time networking gets involved is when the repository instances are being synchronized.\n",
    "\n",
    "__Pull:__ This operation copies the changes from a remote repository instance to a local one. The pull operation is used for synchronization between two repository instances. \n",
    "\n",
    "__Add/Commit:__ When you modify files from the working directory, the _add_ command will send the changes to the stage area, which is an intermediate state in which the files to be sent in the commit are stored. Finally, with _commit_, they are sent to the local repository. Git doesn’t track each and every modified file. Whenever you do a commit operation, Git looks for the files present in the staging area. Only those files present in the staging area are considered for commit and not all the modified files.\n",
    "\n",
    "__Push:__ This operation copies changes from a local repository instance to a remote one. This is used to store the changes permanently into the Git repository.  \n",
    "\n",
    "\n",
    "<figure style=\"text-align:center\">\n",
    "  <img src=\"images/git_staging_area.png\" alt=\"\" width=400>\n",
    "  <figcaption>Fig. 2: Git commit workflow.</figcaption>\n",
    "</figure>\n"
   ]
  },
  {
   "cell_type": "markdown",
   "id": "196f2c0a",
   "metadata": {},
   "source": [
    "### Git installation\n",
    "\n",
    "You can check instructions to download Git (Windows, macOS, Linux) [here](https://git-scm.com/downloads). There are binary installers for Windows. For macOS, we recommend using a package manager such as Homebrew: `brew install git`; the same for Ubuntu: `suso apt install git`.\n",
    "\n",
    "Although we will mainly use Git through the Command Line Interface (CLI), there are many available GUI to work with Git. For instance, VS Code provides support to operate with Git repositories. Besides, you could install a VS Code extension called _Git Graph_, which is a useful tool to quickly explore commits and branches of a repository in a visual way. \n",
    "\n",
    "After installation, you should configure Git to identify your commits in repositories with your name and email. Thus, you will be identified as the author of every commit you push into a shared repository. Open a terminal and type the following with your own data:\n"
   ]
  },
  {
   "cell_type": "code",
   "execution_count": null,
   "id": "8db1b889",
   "metadata": {
    "vscode": {
     "languageId": "shellscript"
    }
   },
   "outputs": [],
   "source": [
    "git config --global user.name \"Your name here\"\n",
    "git config --global user.email \"your_email@example.com\"\n",
    "\n",
    "git config --global core.autocrlf false"
   ]
  },
  {
   "cell_type": "markdown",
   "id": "4211c34a",
   "metadata": {},
   "source": [
    "__Note:__ The last command deactivates the option ``core.autocrlf'', which is enabled by default in the Git installation for Windows. The line-ending format of text files differs between Windows and Linux. When this option is active, Git automatically adapts the line-ending format of files in the repository based on the operating system. However, even if our repository is on a Windows machine, these files will eventually be used in Linux through a virtual machine. Therefore, they must retain the Linux line-ending format. In any case, you can use the VS Code editor to open a file and check or modify its line-ending format. This setting is displayed in the status bar at the bottom right. CRLF is the line-ending format for Windows, while LF is used for Linux. Ensure that your files use the LF format.\n",
    "\n",
    "Git provides [full documentation](https://git-scm.com/doc) to work with repositories, including videos, manuals and a complete book. Check Sections 2.1 and 2.2 in the [book](https://git-scm.com/book/en/v2) for basic commands to initialize a new repository, clone an existing repository, and record changes to a repository. You can also find the same commands summarized in this [tutorial](https://www.diegocmartin.com/tutorial-git/) for beginners. For quick reference, use the [cheat sheet](https://training.github.com/downloads/github-git-cheat-sheet.pdf) with the main Git commands.\n"
   ]
  },
  {
   "cell_type": "markdown",
   "id": "5ab92520",
   "metadata": {},
   "source": [
    "### GitHub\n",
    "\n",
    "GitHub is one of the largest sites for remote repository hosting and management. We will use GitHub to host our course repositories. First, [create a GitHub account](https://git-scm.com/book/en/v2/GitHub-Account-Setup-and-Configuration) and activate two-factor authentication for extra security. We will not use SSH access repositories, so that part can be skipped. Although there are several [authentication methods](https://docs.github.com/en/authentication/keeping-your-account-and-data-secure/about-authentication-to-github) to access GitHub repositories, Github is removing password-based authentication in favor of more secure methods. Thus, two-factor authentication in addition to user/password is recommended to access the GitHub web inferface. In order to access GitHub repositories from the CLI, e.g., to push changes, we will use the HTTPS protocol with a personal access token. [Create your personal token](https://docs.github.com/en/authentication/keeping-your-account-and-data-secure/managing-your-personal-access-tokens#creating-a-personal-access-token-classic) for GitHub access and __do not forget to copy your randomly generated personal token in some file, as you'll need it to access repositories__. Once you have created your personal access token, try to clone the initial repository for this course:\n"
   ]
  },
  {
   "cell_type": "code",
   "execution_count": null,
   "id": "29bc69d1",
   "metadata": {
    "vscode": {
     "languageId": "shellscript"
    }
   },
   "outputs": [],
   "source": [
    "git clone https://github.com/jescap/lab_robotica"
   ]
  },
  {
   "cell_type": "markdown",
   "id": "dff14632",
   "metadata": {},
   "source": [
    "\n",
    "When asked, introduce your GitHub username and password. You should get a warning that password authentication is not allowed. Try again to clone the repository and use your personal access token instead of your password. Of course, introducing your username and token for each GitHub operation is annoying. Instead, you can use [credential storage](https://git-scm.com/book/en/v2/Git-Tools-Credential-Storage) to save your credentials for future use: \n"
   ]
  },
  {
   "cell_type": "code",
   "execution_count": null,
   "id": "0a58c4a3",
   "metadata": {
    "vscode": {
     "languageId": "shellscript"
    }
   },
   "outputs": [],
   "source": [
    "git config --global credential.helper store"
   ]
  },
  {
   "cell_type": "markdown",
   "id": "0358f04a",
   "metadata": {},
   "source": [
    "\n",
    "Next time you access a Git repository, Git will still prompt you for your username and password, but these credentials will be saved in a plaintext file in your home directory (~/.git-credentials) and used for future accesses. In case you prefer, there are more elaborate alternatives for credential managing, such as [Git Credential Manager](https://github.com/git-ecosystem/git-credential-manager#readme). \n",
    "\n",
    "__Exercise 1__ \n",
    "\n",
    "Using one of the GitHub users in your class team, create a new __private__ repository to host all your code during this course. Name the repository \"lab_robotica_gID\", where ID is your group identifier. For example, group 1 would create a repository named \"lab_robotica_g1\". Initialize your repository by copying all the content in the initial course repository \"lab_robotica\". Add the GitHub users `jescap` and `angelrodcas` with read access so that your exercises during the course can be downloaded. \n",
    "\n",
    "__Exercise 2__ \n",
    "\n",
    "In order to practise with Git, do the following tasks. Create a new branch in your local repository called \"test\" and switch to that branch. Make changes in the `README.md`and commit the changes with a descriptive message, e.g., \"Commiting changes in README\". Then create a new text file called `test.txt` and make a second commit with another descriptive message, e.g., \"Commiting new file\". Now, merge all changes in branch \"test\" into the \"master\" branch and synchronize everything with the remote repository. If there are several members in the team, each one can create its own branch, e.g., \"test1\" and \"text2\", and repeat the process. "
   ]
  },
  {
   "cell_type": "markdown",
   "id": "bb1675d4",
   "metadata": {},
   "source": [
    "## Jupyter Notebook\n",
    "\n",
    "During this course, we will use Jupyter notebooks to complete the different practical sessions. These types of notebooks are widely spread for robotics and AI learning. A notebook is a shareable document that combines computer code, plain language descriptions, data, rich visualizations like 3D models, charts, graphs and figures, and interactive controls. A notebook, along with an editor (like Jupyter Notebook), provides a fast interactive environment for prototyping and explaining code, exploring and visualizing data, and sharing ideas with others.\n",
    "\n",
    "A Jupyter notebook is made up of cells that can be of three types:\n",
    "\n",
    "  + __Code cells:__ their content is treated as executable code that can be run. Its output is shown below the cell.\n",
    "  + __Markdown cells:__ these are cells with text formatted following the Markdown language. This language is the one typically used to create readme files and wikis in GitHub repositories. Check this [cheat sheet](https://github.com/adam-p/markdown-here/wiki/Markdown-Cheatsheet) for the basics to writh Markdown text.\n",
    "  + __Raw cells:__ the content of these cells is not evaluated by the notebook's kernel.\n",
    "  \n",
    "Therefore, a typical notebook contains Markdown cells explaining theory, models, equations, instructions, etc; combined with cells including code to be run or completed by students. In order to run code cells, the notebook editor needs to use a _kernel_. Every time a cell is run, its content is sent to the kernel, which runs the code and returns the output to be shown in the notebook. There exist Jupyter kernels for a wide variety of programming and scripting languages.\n",
    "\n",
    "Below, an example of a cell with Python code, which can be edited and run. The Python kernel will be used to run this cell. "
   ]
  },
  {
   "cell_type": "code",
   "execution_count": null,
   "id": "f829a4f5",
   "metadata": {},
   "outputs": [],
   "source": [
    "a = 1\n",
    "b = 1\n",
    "result = a + b\n",
    "print(\"The result of the operation is: \" + str(result))"
   ]
  },
  {
   "cell_type": "markdown",
   "id": "32933d37",
   "metadata": {},
   "source": [
    "### Google Colab\n",
    "\n",
    "To work with Jupyter, you need to have a Python environment installed on your computer and the Jupyter package. A simpler option is to use an online environment like Google Colab. Google Colab (short for Colaboratory) is a free online platform provided by Google that allows you to write and execute Jupyter Notebooks directly in your browser. It is widely used in education, data science, and research.\n",
    "\n",
    "With Colab, you can:\n",
    "\n",
    "+ Run Python code without installing anything on your computer.\n",
    "+ Use interactive notebooks that combine text, code, and visualizations.\n",
    "+ Store and share your work easily through Google Drive or GitHub.\n",
    "\n",
    "That's it: you can work with Jupyter Notebooks using only with a Google account and a web browser, without any local setup or installation of Python.\n",
    "\n",
    "__Exercise 3__ \n",
    "\n",
    "In your GitHub repository for this course, you will find a folder named `notebooks` containing Jupyter notebooks that guide you through each of the practical sessions. You can view them directly on GitHub or open them in Google Colab for editing and executing code (__recommended option__). In the `README.md` file of the repository, you will find direct links to open each notebook in Colab. Check that you can open and edit the notebook for this first practical session in Google Colab. \n",
    "\n",
    "__Note:__ When prompted, you will need to give Colab access to your GitHub account in order to read the notebooks. \n",
    "\n",
    "\n",
    "\n"
   ]
  },
  {
   "cell_type": "markdown",
   "id": "c54c884a",
   "metadata": {},
   "source": [
    "## Summary\n",
    "\n",
    "In this practical session, you should have learned the following:\n",
    "+ How to install the Visual Studio Code editor for software development.\n",
    "+ How to install Git and configure your GitHub account for repository management.\n",
    "+ How to create a GitHub repository for this course.\n",
    "+ How to work with Jupyter notebooks in Google Colab. "
   ]
  }
 ],
 "metadata": {
  "kernelspec": {
   "display_name": "Python 3 (ipykernel)",
   "language": "python",
   "name": "python3"
  },
  "language_info": {
   "codemirror_mode": {
    "name": "ipython",
    "version": 3
   },
   "file_extension": ".py",
   "mimetype": "text/x-python",
   "name": "python",
   "nbconvert_exporter": "python",
   "pygments_lexer": "ipython3",
   "version": "3.12.3"
  }
 },
 "nbformat": 4,
 "nbformat_minor": 5
}
